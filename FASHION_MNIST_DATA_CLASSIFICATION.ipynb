{
  "nbformat": 4,
  "nbformat_minor": 0,
  "metadata": {
    "colab": {
      "name": "FASHION MNIST DATA CLASSIFICATION ",
      "provenance": [],
      "collapsed_sections": [],
      "authorship_tag": "ABX9TyMcpZJOIWS5Ez+hUe7SaKrf",
      "include_colab_link": true
    },
    "kernelspec": {
      "name": "python3",
      "display_name": "Python 3"
    },
    "language_info": {
      "name": "python"
    }
  },
  "cells": [
    {
      "cell_type": "markdown",
      "metadata": {
        "id": "view-in-github",
        "colab_type": "text"
      },
      "source": [
        "<a href=\"https://colab.research.google.com/github/AbdulRahman788/FASHION-MNIST-DATA-CLASSIFICATION/blob/main/FASHION_MNIST_DATA_CLASSIFICATION.ipynb\" target=\"_parent\"><img src=\"https://colab.research.google.com/assets/colab-badge.svg\" alt=\"Open In Colab\"/></a>"
      ]
    },
    {
      "cell_type": "code",
      "metadata": {
        "id": "UDnWJ2V8-Mip"
      },
      "source": [
        "import numpy as np\n",
        "import matplotlib.pyplot as plt\n",
        "import seaborn as sns\n",
        "import tensorflow as tf\n",
        "import keras "
      ],
      "execution_count": null,
      "outputs": []
    },
    {
      "cell_type": "code",
      "metadata": {
        "id": "DNfumnfg-jjv"
      },
      "source": [
        "(X_train, y_train), (X_test,y_test) = tf.keras.datasets.fashion_mnist.load_data()"
      ],
      "execution_count": null,
      "outputs": []
    },
    {
      "cell_type": "code",
      "metadata": {
        "colab": {
          "base_uri": "https://localhost:8080/"
        },
        "id": "UjKeRVJd-5zc",
        "outputId": "1aaf5253-f1cd-47d9-ae96-8c02277b5b38"
      },
      "source": [
        "X_train.shape, y_train.shape"
      ],
      "execution_count": null,
      "outputs": [
        {
          "output_type": "execute_result",
          "data": {
            "text/plain": [
              "((60000, 28, 28), (60000,))"
            ]
          },
          "metadata": {},
          "execution_count": 141
        }
      ]
    },
    {
      "cell_type": "code",
      "metadata": {
        "colab": {
          "base_uri": "https://localhost:8080/"
        },
        "id": "pDlij48x_DTS",
        "outputId": "d365cd3a-1413-40f7-cae8-ca85d16d842c"
      },
      "source": [
        "X_test.shape,y_test.shape"
      ],
      "execution_count": null,
      "outputs": [
        {
          "output_type": "execute_result",
          "data": {
            "text/plain": [
              "((10000, 28, 28), (10000,))"
            ]
          },
          "metadata": {},
          "execution_count": 142
        }
      ]
    },
    {
      "cell_type": "code",
      "metadata": {
        "colab": {
          "base_uri": "https://localhost:8080/"
        },
        "id": "z9qy5sbD_Ns4",
        "outputId": "59a054c6-c4fc-4d7f-b40d-27bb6601dde7"
      },
      "source": [
        "X_train[0]"
      ],
      "execution_count": null,
      "outputs": [
        {
          "output_type": "execute_result",
          "data": {
            "text/plain": [
              "array([[  0,   0,   0,   0,   0,   0,   0,   0,   0,   0,   0,   0,   0,\n",
              "          0,   0,   0,   0,   0,   0,   0,   0,   0,   0,   0,   0,   0,\n",
              "          0,   0],\n",
              "       [  0,   0,   0,   0,   0,   0,   0,   0,   0,   0,   0,   0,   0,\n",
              "          0,   0,   0,   0,   0,   0,   0,   0,   0,   0,   0,   0,   0,\n",
              "          0,   0],\n",
              "       [  0,   0,   0,   0,   0,   0,   0,   0,   0,   0,   0,   0,   0,\n",
              "          0,   0,   0,   0,   0,   0,   0,   0,   0,   0,   0,   0,   0,\n",
              "          0,   0],\n",
              "       [  0,   0,   0,   0,   0,   0,   0,   0,   0,   0,   0,   0,   1,\n",
              "          0,   0,  13,  73,   0,   0,   1,   4,   0,   0,   0,   0,   1,\n",
              "          1,   0],\n",
              "       [  0,   0,   0,   0,   0,   0,   0,   0,   0,   0,   0,   0,   3,\n",
              "          0,  36, 136, 127,  62,  54,   0,   0,   0,   1,   3,   4,   0,\n",
              "          0,   3],\n",
              "       [  0,   0,   0,   0,   0,   0,   0,   0,   0,   0,   0,   0,   6,\n",
              "          0, 102, 204, 176, 134, 144, 123,  23,   0,   0,   0,   0,  12,\n",
              "         10,   0],\n",
              "       [  0,   0,   0,   0,   0,   0,   0,   0,   0,   0,   0,   0,   0,\n",
              "          0, 155, 236, 207, 178, 107, 156, 161, 109,  64,  23,  77, 130,\n",
              "         72,  15],\n",
              "       [  0,   0,   0,   0,   0,   0,   0,   0,   0,   0,   0,   1,   0,\n",
              "         69, 207, 223, 218, 216, 216, 163, 127, 121, 122, 146, 141,  88,\n",
              "        172,  66],\n",
              "       [  0,   0,   0,   0,   0,   0,   0,   0,   0,   1,   1,   1,   0,\n",
              "        200, 232, 232, 233, 229, 223, 223, 215, 213, 164, 127, 123, 196,\n",
              "        229,   0],\n",
              "       [  0,   0,   0,   0,   0,   0,   0,   0,   0,   0,   0,   0,   0,\n",
              "        183, 225, 216, 223, 228, 235, 227, 224, 222, 224, 221, 223, 245,\n",
              "        173,   0],\n",
              "       [  0,   0,   0,   0,   0,   0,   0,   0,   0,   0,   0,   0,   0,\n",
              "        193, 228, 218, 213, 198, 180, 212, 210, 211, 213, 223, 220, 243,\n",
              "        202,   0],\n",
              "       [  0,   0,   0,   0,   0,   0,   0,   0,   0,   1,   3,   0,  12,\n",
              "        219, 220, 212, 218, 192, 169, 227, 208, 218, 224, 212, 226, 197,\n",
              "        209,  52],\n",
              "       [  0,   0,   0,   0,   0,   0,   0,   0,   0,   0,   6,   0,  99,\n",
              "        244, 222, 220, 218, 203, 198, 221, 215, 213, 222, 220, 245, 119,\n",
              "        167,  56],\n",
              "       [  0,   0,   0,   0,   0,   0,   0,   0,   0,   4,   0,   0,  55,\n",
              "        236, 228, 230, 228, 240, 232, 213, 218, 223, 234, 217, 217, 209,\n",
              "         92,   0],\n",
              "       [  0,   0,   1,   4,   6,   7,   2,   0,   0,   0,   0,   0, 237,\n",
              "        226, 217, 223, 222, 219, 222, 221, 216, 223, 229, 215, 218, 255,\n",
              "         77,   0],\n",
              "       [  0,   3,   0,   0,   0,   0,   0,   0,   0,  62, 145, 204, 228,\n",
              "        207, 213, 221, 218, 208, 211, 218, 224, 223, 219, 215, 224, 244,\n",
              "        159,   0],\n",
              "       [  0,   0,   0,   0,  18,  44,  82, 107, 189, 228, 220, 222, 217,\n",
              "        226, 200, 205, 211, 230, 224, 234, 176, 188, 250, 248, 233, 238,\n",
              "        215,   0],\n",
              "       [  0,  57, 187, 208, 224, 221, 224, 208, 204, 214, 208, 209, 200,\n",
              "        159, 245, 193, 206, 223, 255, 255, 221, 234, 221, 211, 220, 232,\n",
              "        246,   0],\n",
              "       [  3, 202, 228, 224, 221, 211, 211, 214, 205, 205, 205, 220, 240,\n",
              "         80, 150, 255, 229, 221, 188, 154, 191, 210, 204, 209, 222, 228,\n",
              "        225,   0],\n",
              "       [ 98, 233, 198, 210, 222, 229, 229, 234, 249, 220, 194, 215, 217,\n",
              "        241,  65,  73, 106, 117, 168, 219, 221, 215, 217, 223, 223, 224,\n",
              "        229,  29],\n",
              "       [ 75, 204, 212, 204, 193, 205, 211, 225, 216, 185, 197, 206, 198,\n",
              "        213, 240, 195, 227, 245, 239, 223, 218, 212, 209, 222, 220, 221,\n",
              "        230,  67],\n",
              "       [ 48, 203, 183, 194, 213, 197, 185, 190, 194, 192, 202, 214, 219,\n",
              "        221, 220, 236, 225, 216, 199, 206, 186, 181, 177, 172, 181, 205,\n",
              "        206, 115],\n",
              "       [  0, 122, 219, 193, 179, 171, 183, 196, 204, 210, 213, 207, 211,\n",
              "        210, 200, 196, 194, 191, 195, 191, 198, 192, 176, 156, 167, 177,\n",
              "        210,  92],\n",
              "       [  0,   0,  74, 189, 212, 191, 175, 172, 175, 181, 185, 188, 189,\n",
              "        188, 193, 198, 204, 209, 210, 210, 211, 188, 188, 194, 192, 216,\n",
              "        170,   0],\n",
              "       [  2,   0,   0,   0,  66, 200, 222, 237, 239, 242, 246, 243, 244,\n",
              "        221, 220, 193, 191, 179, 182, 182, 181, 176, 166, 168,  99,  58,\n",
              "          0,   0],\n",
              "       [  0,   0,   0,   0,   0,   0,   0,  40,  61,  44,  72,  41,  35,\n",
              "          0,   0,   0,   0,   0,   0,   0,   0,   0,   0,   0,   0,   0,\n",
              "          0,   0],\n",
              "       [  0,   0,   0,   0,   0,   0,   0,   0,   0,   0,   0,   0,   0,\n",
              "          0,   0,   0,   0,   0,   0,   0,   0,   0,   0,   0,   0,   0,\n",
              "          0,   0],\n",
              "       [  0,   0,   0,   0,   0,   0,   0,   0,   0,   0,   0,   0,   0,\n",
              "          0,   0,   0,   0,   0,   0,   0,   0,   0,   0,   0,   0,   0,\n",
              "          0,   0]], dtype=uint8)"
            ]
          },
          "metadata": {},
          "execution_count": 143
        }
      ]
    },
    {
      "cell_type": "code",
      "metadata": {
        "colab": {
          "base_uri": "https://localhost:8080/"
        },
        "id": "8nsY6FCg_i23",
        "outputId": "a2dc2089-f0bb-4fc8-cde1-667f683730ff"
      },
      "source": [
        "y_train[0]"
      ],
      "execution_count": null,
      "outputs": [
        {
          "output_type": "execute_result",
          "data": {
            "text/plain": [
              "9"
            ]
          },
          "metadata": {},
          "execution_count": 144
        }
      ]
    },
    {
      "cell_type": "code",
      "metadata": {
        "colab": {
          "base_uri": "https://localhost:8080/",
          "height": 35
        },
        "id": "B9la8NNz_VhC",
        "outputId": "c872c337-efa1-4a6d-bb64-59461583d9d8"
      },
      "source": [
        "\n",
        "'''\n",
        "Label\tDescription\n",
        "0\tT-shirt/top\n",
        "1\tTrouser\n",
        "2\tPullover\n",
        "3\tDress\n",
        "4\tCoat\n",
        "5\tSandal\n",
        "6\tShirt\n",
        "7\tSneaker\n",
        "8\tBag\n",
        "9\tAnkle boot\n",
        "'''"
      ],
      "execution_count": null,
      "outputs": [
        {
          "output_type": "execute_result",
          "data": {
            "application/vnd.google.colaboratory.intrinsic+json": {
              "type": "string"
            },
            "text/plain": [
              "'\\nLabel\\tDescription\\n0\\tT-shirt/top\\n1\\tTrouser\\n2\\tPullover\\n3\\tDress\\n4\\tCoat\\n5\\tSandal\\n6\\tShirt\\n7\\tSneaker\\n8\\tBag\\n9\\tAnkle boot\\n'"
            ]
          },
          "metadata": {},
          "execution_count": 145
        }
      ]
    },
    {
      "cell_type": "code",
      "metadata": {
        "id": "yJcNwSJ4AFDw"
      },
      "source": [
        "# show image"
      ],
      "execution_count": null,
      "outputs": []
    },
    {
      "cell_type": "code",
      "metadata": {
        "colab": {
          "base_uri": "https://localhost:8080/",
          "height": 282
        },
        "id": "9-7_kBNZAmeZ",
        "outputId": "eaa149e3-d1b7-4be8-9856-8a2f58d09c17"
      },
      "source": [
        "plt.imshow(X_train[0], cmap=\"gray\")"
      ],
      "execution_count": null,
      "outputs": [
        {
          "output_type": "execute_result",
          "data": {
            "text/plain": [
              "<matplotlib.image.AxesImage at 0x7f3748a42a10>"
            ]
          },
          "metadata": {},
          "execution_count": 147
        },
        {
          "output_type": "display_data",
          "data": {
            "image/png": "[encoded data removed]",
            "text/plain": [
              "<Figure size 432x288 with 1 Axes>"
            ]
          },
          "metadata": {
            "needs_background": "light"
          }
        }
      ]
    },
    {
      "cell_type": "code",
      "metadata": {
        "colab": {
          "base_uri": "https://localhost:8080/",
          "height": 282
        },
        "id": "iI5jtMUuA3bv",
        "outputId": "b7715d11-913d-40f5-a921-2a5751b51850"
      },
      "source": [
        "plt.imshow(X_train[0], cmap=\"Greys\")"
      ],
      "execution_count": null,
      "outputs": [
        {
          "output_type": "execute_result",
          "data": {
            "text/plain": [
              "<matplotlib.image.AxesImage at 0x7f3748af2a50>"
            ]
          },
          "metadata": {},
          "execution_count": 148
        },
        {
          "output_type": "display_data",
          "data": {
            "image/png": "[encoded data removed]",
            "text/plain": [
              "<Figure size 432x288 with 1 Axes>"
            ]
          },
          "metadata": {
            "needs_background": "light"
          }
        }
      ]
    },
    {
      "cell_type": "code",
      "metadata": {
        "colab": {
          "base_uri": "https://localhost:8080/",
          "height": 282
        },
        "id": "CD4cMH8ZBfvQ",
        "outputId": "25937664-2910-45ec-ee88-d81c4559cb62"
      },
      "source": [
        "plt.imshow(X_train[1], cmap=\"gray\")"
      ],
      "execution_count": null,
      "outputs": [
        {
          "output_type": "execute_result",
          "data": {
            "text/plain": [
              "<matplotlib.image.AxesImage at 0x7f3752ac7510>"
            ]
          },
          "metadata": {},
          "execution_count": 149
        },
        {
          "output_type": "display_data",
          "data": {
            "image/png": "[encoded data removed]",
            "text/plain": [
              "<Figure size 432x288 with 1 Axes>"
            ]
          },
          "metadata": {
            "needs_background": "light"
          }
        }
      ]
    },
    {
      "cell_type": "code",
      "metadata": {
        "colab": {
          "base_uri": "https://localhost:8080/",
          "height": 985
        },
        "id": "kPKHq5gEBlWB",
        "outputId": "82db3066-6a54-4eee-99da-3209b4489235"
      },
      "source": [
        "class_labels = [\"\tT-shirt/top\",\"Trouser\",\"Pullover\",\"Dress\",'Coat','Sandal','Shirt','Sneaker','Bag','Ankle boot']\n",
        "plt.figure(figsize=(16,16))\n",
        "j=1\n",
        "for i in np.random.randint(0,1000,25):\n",
        "  plt.subplot(5,5,j); j+=1\n",
        "  plt.imshow(X_train[i], cmap=\"Greys\")\n",
        "  plt.axis(\"off\")\n",
        "  plt.title(\"{} / {}\". format(class_labels[y_train[i]], y_train[i]))"
      ],
      "execution_count": null,
      "outputs": [
        {
          "output_type": "stream",
          "name": "stderr",
          "text": [
            "/usr/local/lib/python3.7/dist-packages/matplotlib/backends/backend_agg.py:214: RuntimeWarning: Glyph 9 missing from current font.\n",
            "  font.set_text(s, 0.0, flags=flags)\n",
            "/usr/local/lib/python3.7/dist-packages/matplotlib/backends/backend_agg.py:183: RuntimeWarning: Glyph 9 missing from current font.\n",
            "  font.set_text(s, 0, flags=flags)\n"
          ]
        },
        {
          "output_type": "display_data",
          "data": {
            "image/png": "[encoded data removed]",
            "text/plain": [
              "<Figure size 1152x1152 with 25 Axes>"
            ]
          },
          "metadata": {
            "needs_background": "light"
          }
        }
      ]
    },
    {
      "cell_type": "code",
      "metadata": {
        "colab": {
          "base_uri": "https://localhost:8080/",
          "height": 985
        },
        "id": "1BA_17MdDzTY",
        "outputId": "04134276-c195-4ff4-8d99-f46a7714c426"
      },
      "source": [
        "class_labels = [\"\tT-shirt/top\",\"Trouser\",\"Pullover\",\"Dress\",'Coat','Sandal','Shirt','Sneaker','Bag','Ankle boot']\n",
        "plt.figure(figsize=(16,16))\n",
        "j=1\n",
        "for i in np.random.randint(0,1000,25):\n",
        "  plt.subplot(5,5,j); j+=1\n",
        "  plt.imshow(X_train[i], cmap=\"Greys\")\n",
        "  plt.axis(\"off\")\n",
        "  plt.title(\"{} / {}\". format(class_labels[y_train[i]], y_train[i]))"
      ],
      "execution_count": null,
      "outputs": [
        {
          "output_type": "stream",
          "name": "stderr",
          "text": [
            "/usr/local/lib/python3.7/dist-packages/matplotlib/backends/backend_agg.py:214: RuntimeWarning: Glyph 9 missing from current font.\n",
            "  font.set_text(s, 0.0, flags=flags)\n",
            "/usr/local/lib/python3.7/dist-packages/matplotlib/backends/backend_agg.py:183: RuntimeWarning: Glyph 9 missing from current font.\n",
            "  font.set_text(s, 0, flags=flags)\n"
          ]
        },
        {
          "output_type": "display_data",
          "data": {
            "image/png": "[encoded data removed]",
            "text/plain": [
              "<Figure size 1152x1152 with 25 Axes>"
            ]
          },
          "metadata": {
            "needs_background": "light"
          }
        }
      ]
    },
    {
      "cell_type": "code",
      "metadata": {
        "colab": {
          "base_uri": "https://localhost:8080/"
        },
        "id": "RlW13Y3MF02I",
        "outputId": "a771f8d7-541f-4d89-f3f4-dc4c005742dd"
      },
      "source": [
        "X_train.shape"
      ],
      "execution_count": null,
      "outputs": [
        {
          "output_type": "execute_result",
          "data": {
            "text/plain": [
              "(60000, 28, 28)"
            ]
          },
          "metadata": {},
          "execution_count": 152
        }
      ]
    },
    {
      "cell_type": "code",
      "metadata": {
        "colab": {
          "base_uri": "https://localhost:8080/"
        },
        "id": "BU9FBsKWGPIN",
        "outputId": "b650723d-07d5-4422-c8f3-44772435e03b"
      },
      "source": [
        "X_train.ndim"
      ],
      "execution_count": null,
      "outputs": [
        {
          "output_type": "execute_result",
          "data": {
            "text/plain": [
              "3"
            ]
          },
          "metadata": {},
          "execution_count": 153
        }
      ]
    },
    {
      "cell_type": "code",
      "metadata": {
        "id": "C3d7mS7oGVTH"
      },
      "source": [
        "X_train = np.expand_dims(X_train, -1)"
      ],
      "execution_count": null,
      "outputs": []
    },
    {
      "cell_type": "code",
      "metadata": {
        "colab": {
          "base_uri": "https://localhost:8080/"
        },
        "id": "8eJviKVgGk07",
        "outputId": "429e67fc-654f-4f89-e898-ca463b5a6e8e"
      },
      "source": [
        "X_train.shape"
      ],
      "execution_count": null,
      "outputs": [
        {
          "output_type": "execute_result",
          "data": {
            "text/plain": [
              "(60000, 28, 28, 1)"
            ]
          },
          "metadata": {},
          "execution_count": 155
        }
      ]
    },
    {
      "cell_type": "code",
      "metadata": {
        "colab": {
          "base_uri": "https://localhost:8080/"
        },
        "id": "R97wHs72Gr2r",
        "outputId": "4b031ccc-2cf0-4824-ee76-0dfdb3ba3b6d"
      },
      "source": [
        "X_train.ndim"
      ],
      "execution_count": null,
      "outputs": [
        {
          "output_type": "execute_result",
          "data": {
            "text/plain": [
              "4"
            ]
          },
          "metadata": {},
          "execution_count": 156
        }
      ]
    },
    {
      "cell_type": "code",
      "metadata": {
        "id": "XC_shGKbGvq3"
      },
      "source": [
        "# feature scaling "
      ],
      "execution_count": null,
      "outputs": []
    },
    {
      "cell_type": "code",
      "metadata": {
        "colab": {
          "base_uri": "https://localhost:8080/"
        },
        "id": "a4_byWihG2HK",
        "outputId": "020f4835-f937-403f-b0b4-56389539f07d"
      },
      "source": [
        "X_train[0]"
      ],
      "execution_count": null,
      "outputs": [
        {
          "output_type": "execute_result",
          "data": {
            "text/plain": [
              "array([[[  0],\n",
              "        [  0],\n",
              "        [  0],\n",
              "        [  0],\n",
              "        [  0],\n",
              "        [  0],\n",
              "        [  0],\n",
              "        [  0],\n",
              "        [  0],\n",
              "        [  0],\n",
              "        [  0],\n",
              "        [  0],\n",
              "        [  0],\n",
              "        [  0],\n",
              "        [  0],\n",
              "        [  0],\n",
              "        [  0],\n",
              "        [  0],\n",
              "        [  0],\n",
              "        [  0],\n",
              "        [  0],\n",
              "        [  0],\n",
              "        [  0],\n",
              "        [  0],\n",
              "        [  0],\n",
              "        [  0],\n",
              "        [  0],\n",
              "        [  0]],\n",
              "\n",
              "       [[  0],\n",
              "        [  0],\n",
              "        [  0],\n",
              "        [  0],\n",
              "        [  0],\n",
              "        [  0],\n",
              "        [  0],\n",
              "        [  0],\n",
              "        [  0],\n",
              "        [  0],\n",
              "        [  0],\n",
              "        [  0],\n",
              "        [  0],\n",
              "        [  0],\n",
              "        [  0],\n",
              "        [  0],\n",
              "        [  0],\n",
              "        [  0],\n",
              "        [  0],\n",
              "        [  0],\n",
              "        [  0],\n",
              "        [  0],\n",
              "        [  0],\n",
              "        [  0],\n",
              "        [  0],\n",
              "        [  0],\n",
              "        [  0],\n",
              "        [  0]],\n",
              "\n",
              "       [[  0],\n",
              "        [  0],\n",
              "        [  0],\n",
              "        [  0],\n",
              "        [  0],\n",
              "        [  0],\n",
              "        [  0],\n",
              "        [  0],\n",
              "        [  0],\n",
              "        [  0],\n",
              "        [  0],\n",
              "        [  0],\n",
              "        [  0],\n",
              "        [  0],\n",
              "        [  0],\n",
              "        [  0],\n",
              "        [  0],\n",
              "        [  0],\n",
              "        [  0],\n",
              "        [  0],\n",
              "        [  0],\n",
              "        [  0],\n",
              "        [  0],\n",
              "        [  0],\n",
              "        [  0],\n",
              "        [  0],\n",
              "        [  0],\n",
              "        [  0]],\n",
              "\n",
              "       [[  0],\n",
              "        [  0],\n",
              "        [  0],\n",
              "        [  0],\n",
              "        [  0],\n",
              "        [  0],\n",
              "        [  0],\n",
              "        [  0],\n",
              "        [  0],\n",
              "        [  0],\n",
              "        [  0],\n",
              "        [  0],\n",
              "        [  1],\n",
              "        [  0],\n",
              "        [  0],\n",
              "        [ 13],\n",
              "        [ 73],\n",
              "        [  0],\n",
              "        [  0],\n",
              "        [  1],\n",
              "        [  4],\n",
              "        [  0],\n",
              "        [  0],\n",
              "        [  0],\n",
              "        [  0],\n",
              "        [  1],\n",
              "        [  1],\n",
              "        [  0]],\n",
              "\n",
              "       [[  0],\n",
              "        [  0],\n",
              "        [  0],\n",
              "        [  0],\n",
              "        [  0],\n",
              "        [  0],\n",
              "        [  0],\n",
              "        [  0],\n",
              "        [  0],\n",
              "        [  0],\n",
              "        [  0],\n",
              "        [  0],\n",
              "        [  3],\n",
              "        [  0],\n",
              "        [ 36],\n",
              "        [136],\n",
              "        [127],\n",
              "        [ 62],\n",
              "        [ 54],\n",
              "        [  0],\n",
              "        [  0],\n",
              "        [  0],\n",
              "        [  1],\n",
              "        [  3],\n",
              "        [  4],\n",
              "        [  0],\n",
              "        [  0],\n",
              "        [  3]],\n",
              "\n",
              "       [[  0],\n",
              "        [  0],\n",
              "        [  0],\n",
              "        [  0],\n",
              "        [  0],\n",
              "        [  0],\n",
              "        [  0],\n",
              "        [  0],\n",
              "        [  0],\n",
              "        [  0],\n",
              "        [  0],\n",
              "        [  0],\n",
              "        [  6],\n",
              "        [  0],\n",
              "        [102],\n",
              "        [204],\n",
              "        [176],\n",
              "        [134],\n",
              "        [144],\n",
              "        [123],\n",
              "        [ 23],\n",
              "        [  0],\n",
              "        [  0],\n",
              "        [  0],\n",
              "        [  0],\n",
              "        [ 12],\n",
              "        [ 10],\n",
              "        [  0]],\n",
              "\n",
              "       [[  0],\n",
              "        [  0],\n",
              "        [  0],\n",
              "        [  0],\n",
              "        [  0],\n",
              "        [  0],\n",
              "        [  0],\n",
              "        [  0],\n",
              "        [  0],\n",
              "        [  0],\n",
              "        [  0],\n",
              "        [  0],\n",
              "        [  0],\n",
              "        [  0],\n",
              "        [155],\n",
              "        [236],\n",
              "        [207],\n",
              "        [178],\n",
              "        [107],\n",
              "        [156],\n",
              "        [161],\n",
              "        [109],\n",
              "        [ 64],\n",
              "        [ 23],\n",
              "        [ 77],\n",
              "        [130],\n",
              "        [ 72],\n",
              "        [ 15]],\n",
              "\n",
              "       [[  0],\n",
              "        [  0],\n",
              "        [  0],\n",
              "        [  0],\n",
              "        [  0],\n",
              "        [  0],\n",
              "        [  0],\n",
              "        [  0],\n",
              "        [  0],\n",
              "        [  0],\n",
              "        [  0],\n",
              "        [  1],\n",
              "        [  0],\n",
              "        [ 69],\n",
              "        [207],\n",
              "        [223],\n",
              "        [218],\n",
              "        [216],\n",
              "        [216],\n",
              "        [163],\n",
              "        [127],\n",
              "        [121],\n",
              "        [122],\n",
              "        [146],\n",
              "        [141],\n",
              "        [ 88],\n",
              "        [172],\n",
              "        [ 66]],\n",
              "\n",
              "       [[  0],\n",
              "        [  0],\n",
              "        [  0],\n",
              "        [  0],\n",
              "        [  0],\n",
              "        [  0],\n",
              "        [  0],\n",
              "        [  0],\n",
              "        [  0],\n",
              "        [  1],\n",
              "        [  1],\n",
              "        [  1],\n",
              "        [  0],\n",
              "        [200],\n",
              "        [232],\n",
              "        [232],\n",
              "        [233],\n",
              "        [229],\n",
              "        [223],\n",
              "        [223],\n",
              "        [215],\n",
              "        [213],\n",
              "        [164],\n",
              "        [127],\n",
              "        [123],\n",
              "        [196],\n",
              "        [229],\n",
              "        [  0]],\n",
              "\n",
              "       [[  0],\n",
              "        [  0],\n",
              "        [  0],\n",
              "        [  0],\n",
              "        [  0],\n",
              "        [  0],\n",
              "        [  0],\n",
              "        [  0],\n",
              "        [  0],\n",
              "        [  0],\n",
              "        [  0],\n",
              "        [  0],\n",
              "        [  0],\n",
              "        [183],\n",
              "        [225],\n",
              "        [216],\n",
              "        [223],\n",
              "        [228],\n",
              "        [235],\n",
              "        [227],\n",
              "        [224],\n",
              "        [222],\n",
              "        [224],\n",
              "        [221],\n",
              "        [223],\n",
              "        [245],\n",
              "        [173],\n",
              "        [  0]],\n",
              "\n",
              "       [[  0],\n",
              "        [  0],\n",
              "        [  0],\n",
              "        [  0],\n",
              "        [  0],\n",
              "        [  0],\n",
              "        [  0],\n",
              "        [  0],\n",
              "        [  0],\n",
              "        [  0],\n",
              "        [  0],\n",
              "        [  0],\n",
              "        [  0],\n",
              "        [193],\n",
              "        [228],\n",
              "        [218],\n",
              "        [213],\n",
              "        [198],\n",
              "        [180],\n",
              "        [212],\n",
              "        [210],\n",
              "        [211],\n",
              "        [213],\n",
              "        [223],\n",
              "        [220],\n",
              "        [243],\n",
              "        [202],\n",
              "        [  0]],\n",
              "\n",
              "       [[  0],\n",
              "        [  0],\n",
              "        [  0],\n",
              "        [  0],\n",
              "        [  0],\n",
              "        [  0],\n",
              "        [  0],\n",
              "        [  0],\n",
              "        [  0],\n",
              "        [  1],\n",
              "        [  3],\n",
              "        [  0],\n",
              "        [ 12],\n",
              "        [219],\n",
              "        [220],\n",
              "        [212],\n",
              "        [218],\n",
              "        [192],\n",
              "        [169],\n",
              "        [227],\n",
              "        [208],\n",
              "        [218],\n",
              "        [224],\n",
              "        [212],\n",
              "        [226],\n",
              "        [197],\n",
              "        [209],\n",
              "        [ 52]],\n",
              "\n",
              "       [[  0],\n",
              "        [  0],\n",
              "        [  0],\n",
              "        [  0],\n",
              "        [  0],\n",
              "        [  0],\n",
              "        [  0],\n",
              "        [  0],\n",
              "        [  0],\n",
              "        [  0],\n",
              "        [  6],\n",
              "        [  0],\n",
              "        [ 99],\n",
              "        [244],\n",
              "        [222],\n",
              "        [220],\n",
              "        [218],\n",
              "        [203],\n",
              "        [198],\n",
              "        [221],\n",
              "        [215],\n",
              "        [213],\n",
              "        [222],\n",
              "        [220],\n",
              "        [245],\n",
              "        [119],\n",
              "        [167],\n",
              "        [ 56]],\n",
              "\n",
              "       [[  0],\n",
              "        [  0],\n",
              "        [  0],\n",
              "        [  0],\n",
              "        [  0],\n",
              "        [  0],\n",
              "        [  0],\n",
              "        [  0],\n",
              "        [  0],\n",
              "        [  4],\n",
              "        [  0],\n",
              "        [  0],\n",
              "        [ 55],\n",
              "        [236],\n",
              "        [228],\n",
              "        [230],\n",
              "        [228],\n",
              "        [240],\n",
              "        [232],\n",
              "        [213],\n",
              "        [218],\n",
              "        [223],\n",
              "        [234],\n",
              "        [217],\n",
              "        [217],\n",
              "        [209],\n",
              "        [ 92],\n",
              "        [  0]],\n",
              "\n",
              "       [[  0],\n",
              "        [  0],\n",
              "        [  1],\n",
              "        [  4],\n",
              "        [  6],\n",
              "        [  7],\n",
              "        [  2],\n",
              "        [  0],\n",
              "        [  0],\n",
              "        [  0],\n",
              "        [  0],\n",
              "        [  0],\n",
              "        [237],\n",
              "        [226],\n",
              "        [217],\n",
              "        [223],\n",
              "        [222],\n",
              "        [219],\n",
              "        [222],\n",
              "        [221],\n",
              "        [216],\n",
              "        [223],\n",
              "        [229],\n",
              "        [215],\n",
              "        [218],\n",
              "        [255],\n",
              "        [ 77],\n",
              "        [  0]],\n",
              "\n",
              "       [[  0],\n",
              "        [  3],\n",
              "        [  0],\n",
              "        [  0],\n",
              "        [  0],\n",
              "        [  0],\n",
              "        [  0],\n",
              "        [  0],\n",
              "        [  0],\n",
              "        [ 62],\n",
              "        [145],\n",
              "        [204],\n",
              "        [228],\n",
              "        [207],\n",
              "        [213],\n",
              "        [221],\n",
              "        [218],\n",
              "        [208],\n",
              "        [211],\n",
              "        [218],\n",
              "        [224],\n",
              "        [223],\n",
              "        [219],\n",
              "        [215],\n",
              "        [224],\n",
              "        [244],\n",
              "        [159],\n",
              "        [  0]],\n",
              "\n",
              "       [[  0],\n",
              "        [  0],\n",
              "        [  0],\n",
              "        [  0],\n",
              "        [ 18],\n",
              "        [ 44],\n",
              "        [ 82],\n",
              "        [107],\n",
              "        [189],\n",
              "        [228],\n",
              "        [220],\n",
              "        [222],\n",
              "        [217],\n",
              "        [226],\n",
              "        [200],\n",
              "        [205],\n",
              "        [211],\n",
              "        [230],\n",
              "        [224],\n",
              "        [234],\n",
              "        [176],\n",
              "        [188],\n",
              "        [250],\n",
              "        [248],\n",
              "        [233],\n",
              "        [238],\n",
              "        [215],\n",
              "        [  0]],\n",
              "\n",
              "       [[  0],\n",
              "        [ 57],\n",
              "        [187],\n",
              "        [208],\n",
              "        [224],\n",
              "        [221],\n",
              "        [224],\n",
              "        [208],\n",
              "        [204],\n",
              "        [214],\n",
              "        [208],\n",
              "        [209],\n",
              "        [200],\n",
              "        [159],\n",
              "        [245],\n",
              "        [193],\n",
              "        [206],\n",
              "        [223],\n",
              "        [255],\n",
              "        [255],\n",
              "        [221],\n",
              "        [234],\n",
              "        [221],\n",
              "        [211],\n",
              "        [220],\n",
              "        [232],\n",
              "        [246],\n",
              "        [  0]],\n",
              "\n",
              "       [[  3],\n",
              "        [202],\n",
              "        [228],\n",
              "        [224],\n",
              "        [221],\n",
              "        [211],\n",
              "        [211],\n",
              "        [214],\n",
              "        [205],\n",
              "        [205],\n",
              "        [205],\n",
              "        [220],\n",
              "        [240],\n",
              "        [ 80],\n",
              "        [150],\n",
              "        [255],\n",
              "        [229],\n",
              "        [221],\n",
              "        [188],\n",
              "        [154],\n",
              "        [191],\n",
              "        [210],\n",
              "        [204],\n",
              "        [209],\n",
              "        [222],\n",
              "        [228],\n",
              "        [225],\n",
              "        [  0]],\n",
              "\n",
              "       [[ 98],\n",
              "        [233],\n",
              "        [198],\n",
              "        [210],\n",
              "        [222],\n",
              "        [229],\n",
              "        [229],\n",
              "        [234],\n",
              "        [249],\n",
              "        [220],\n",
              "        [194],\n",
              "        [215],\n",
              "        [217],\n",
              "        [241],\n",
              "        [ 65],\n",
              "        [ 73],\n",
              "        [106],\n",
              "        [117],\n",
              "        [168],\n",
              "        [219],\n",
              "        [221],\n",
              "        [215],\n",
              "        [217],\n",
              "        [223],\n",
              "        [223],\n",
              "        [224],\n",
              "        [229],\n",
              "        [ 29]],\n",
              "\n",
              "       [[ 75],\n",
              "        [204],\n",
              "        [212],\n",
              "        [204],\n",
              "        [193],\n",
              "        [205],\n",
              "        [211],\n",
              "        [225],\n",
              "        [216],\n",
              "        [185],\n",
              "        [197],\n",
              "        [206],\n",
              "        [198],\n",
              "        [213],\n",
              "        [240],\n",
              "        [195],\n",
              "        [227],\n",
              "        [245],\n",
              "        [239],\n",
              "        [223],\n",
              "        [218],\n",
              "        [212],\n",
              "        [209],\n",
              "        [222],\n",
              "        [220],\n",
              "        [221],\n",
              "        [230],\n",
              "        [ 67]],\n",
              "\n",
              "       [[ 48],\n",
              "        [203],\n",
              "        [183],\n",
              "        [194],\n",
              "        [213],\n",
              "        [197],\n",
              "        [185],\n",
              "        [190],\n",
              "        [194],\n",
              "        [192],\n",
              "        [202],\n",
              "        [214],\n",
              "        [219],\n",
              "        [221],\n",
              "        [220],\n",
              "        [236],\n",
              "        [225],\n",
              "        [216],\n",
              "        [199],\n",
              "        [206],\n",
              "        [186],\n",
              "        [181],\n",
              "        [177],\n",
              "        [172],\n",
              "        [181],\n",
              "        [205],\n",
              "        [206],\n",
              "        [115]],\n",
              "\n",
              "       [[  0],\n",
              "        [122],\n",
              "        [219],\n",
              "        [193],\n",
              "        [179],\n",
              "        [171],\n",
              "        [183],\n",
              "        [196],\n",
              "        [204],\n",
              "        [210],\n",
              "        [213],\n",
              "        [207],\n",
              "        [211],\n",
              "        [210],\n",
              "        [200],\n",
              "        [196],\n",
              "        [194],\n",
              "        [191],\n",
              "        [195],\n",
              "        [191],\n",
              "        [198],\n",
              "        [192],\n",
              "        [176],\n",
              "        [156],\n",
              "        [167],\n",
              "        [177],\n",
              "        [210],\n",
              "        [ 92]],\n",
              "\n",
              "       [[  0],\n",
              "        [  0],\n",
              "        [ 74],\n",
              "        [189],\n",
              "        [212],\n",
              "        [191],\n",
              "        [175],\n",
              "        [172],\n",
              "        [175],\n",
              "        [181],\n",
              "        [185],\n",
              "        [188],\n",
              "        [189],\n",
              "        [188],\n",
              "        [193],\n",
              "        [198],\n",
              "        [204],\n",
              "        [209],\n",
              "        [210],\n",
              "        [210],\n",
              "        [211],\n",
              "        [188],\n",
              "        [188],\n",
              "        [194],\n",
              "        [192],\n",
              "        [216],\n",
              "        [170],\n",
              "        [  0]],\n",
              "\n",
              "       [[  2],\n",
              "        [  0],\n",
              "        [  0],\n",
              "        [  0],\n",
              "        [ 66],\n",
              "        [200],\n",
              "        [222],\n",
              "        [237],\n",
              "        [239],\n",
              "        [242],\n",
              "        [246],\n",
              "        [243],\n",
              "        [244],\n",
              "        [221],\n",
              "        [220],\n",
              "        [193],\n",
              "        [191],\n",
              "        [179],\n",
              "        [182],\n",
              "        [182],\n",
              "        [181],\n",
              "        [176],\n",
              "        [166],\n",
              "        [168],\n",
              "        [ 99],\n",
              "        [ 58],\n",
              "        [  0],\n",
              "        [  0]],\n",
              "\n",
              "       [[  0],\n",
              "        [  0],\n",
              "        [  0],\n",
              "        [  0],\n",
              "        [  0],\n",
              "        [  0],\n",
              "        [  0],\n",
              "        [ 40],\n",
              "        [ 61],\n",
              "        [ 44],\n",
              "        [ 72],\n",
              "        [ 41],\n",
              "        [ 35],\n",
              "        [  0],\n",
              "        [  0],\n",
              "        [  0],\n",
              "        [  0],\n",
              "        [  0],\n",
              "        [  0],\n",
              "        [  0],\n",
              "        [  0],\n",
              "        [  0],\n",
              "        [  0],\n",
              "        [  0],\n",
              "        [  0],\n",
              "        [  0],\n",
              "        [  0],\n",
              "        [  0]],\n",
              "\n",
              "       [[  0],\n",
              "        [  0],\n",
              "        [  0],\n",
              "        [  0],\n",
              "        [  0],\n",
              "        [  0],\n",
              "        [  0],\n",
              "        [  0],\n",
              "        [  0],\n",
              "        [  0],\n",
              "        [  0],\n",
              "        [  0],\n",
              "        [  0],\n",
              "        [  0],\n",
              "        [  0],\n",
              "        [  0],\n",
              "        [  0],\n",
              "        [  0],\n",
              "        [  0],\n",
              "        [  0],\n",
              "        [  0],\n",
              "        [  0],\n",
              "        [  0],\n",
              "        [  0],\n",
              "        [  0],\n",
              "        [  0],\n",
              "        [  0],\n",
              "        [  0]],\n",
              "\n",
              "       [[  0],\n",
              "        [  0],\n",
              "        [  0],\n",
              "        [  0],\n",
              "        [  0],\n",
              "        [  0],\n",
              "        [  0],\n",
              "        [  0],\n",
              "        [  0],\n",
              "        [  0],\n",
              "        [  0],\n",
              "        [  0],\n",
              "        [  0],\n",
              "        [  0],\n",
              "        [  0],\n",
              "        [  0],\n",
              "        [  0],\n",
              "        [  0],\n",
              "        [  0],\n",
              "        [  0],\n",
              "        [  0],\n",
              "        [  0],\n",
              "        [  0],\n",
              "        [  0],\n",
              "        [  0],\n",
              "        [  0],\n",
              "        [  0],\n",
              "        [  0]]], dtype=uint8)"
            ]
          },
          "metadata": {},
          "execution_count": 158
        }
      ]
    },
    {
      "cell_type": "code",
      "metadata": {
        "id": "O9_8Ngi_G5HM"
      },
      "source": [
        "X_train= X_train/225\n",
        "X_test= X_test/225"
      ],
      "execution_count": null,
      "outputs": []
    },
    {
      "cell_type": "code",
      "metadata": {
        "id": "JlqMzfJwHSMu"
      },
      "source": [
        "from sklearn.model_selection import train_test_split\n",
        "X_train,X_validation, y_train,y_validation = train_test_split(X_train,y_train, test_size =0.2, random_state=2020)"
      ],
      "execution_count": null,
      "outputs": []
    },
    {
      "cell_type": "code",
      "metadata": {
        "colab": {
          "base_uri": "https://localhost:8080/"
        },
        "id": "E0uIFEPnH1gs",
        "outputId": "36bd1ffe-13af-4ca5-e00f-e6a70573a844"
      },
      "source": [
        "X_train.shape,X_validation.shape, y_train.shape,y_validation.shape"
      ],
      "execution_count": null,
      "outputs": [
        {
          "output_type": "execute_result",
          "data": {
            "text/plain": [
              "((48000, 28, 28, 1), (12000, 28, 28, 1), (48000,), (12000,))"
            ]
          },
          "metadata": {},
          "execution_count": 161
        }
      ]
    },
    {
      "cell_type": "code",
      "metadata": {
        "id": "2jQc0d-vIYk-"
      },
      "source": [
        "# build cnn"
      ],
      "execution_count": null,
      "outputs": []
    },
    {
      "cell_type": "code",
      "metadata": {
        "id": "QE2thpiLMNOU"
      },
      "source": [
        "model=keras.models.Sequential([\n",
        "                         keras.layers.Conv2D(filters=32,kernel_size=3,strides=(1,1),padding='valid',activation='relu',input_shape=[28,28,1]),\n",
        "                         keras.layers.MaxPooling2D(pool_size=(2,2)),\n",
        "                         keras.layers.Flatten(),\n",
        "                         keras.layers.Dense(units=128,activation='relu'),\n",
        "                         keras.layers.Dense(units=10,activation='softmax')\n",
        "])"
      ],
      "execution_count": null,
      "outputs": []
    },
    {
      "cell_type": "code",
      "metadata": {
        "colab": {
          "base_uri": "https://localhost:8080/"
        },
        "id": "hP4Yv2tMLAlh",
        "outputId": "dc1b509a-ed49-49e8-bcee-60d082fd08b3"
      },
      "source": [
        "model.summary()"
      ],
      "execution_count": null,
      "outputs": [
        {
          "output_type": "stream",
          "name": "stdout",
          "text": [
            "Model: \"sequential_10\"\n",
            "_________________________________________________________________\n",
            "Layer (type)                 Output Shape              Param #   \n",
            "=================================================================\n",
            "conv2d_20 (Conv2D)           (None, 26, 26, 32)        320       \n",
            "_________________________________________________________________\n",
            "max_pooling2d_20 (MaxPooling (None, 13, 13, 32)        0         \n",
            "_________________________________________________________________\n",
            "flatten_10 (Flatten)         (None, 5408)              0         \n",
            "_________________________________________________________________\n",
            "dense_37 (Dense)             (None, 128)               692352    \n",
            "_________________________________________________________________\n",
            "dense_38 (Dense)             (None, 10)                1290      \n",
            "=================================================================\n",
            "Total params: 693,962\n",
            "Trainable params: 693,962\n",
            "Non-trainable params: 0\n",
            "_________________________________________________________________\n"
          ]
        }
      ]
    },
    {
      "cell_type": "code",
      "metadata": {
        "id": "T8505ZieLXh6"
      },
      "source": [
        "model.compile(optimizer =\"adam\", loss= \"sparse_categorical_crossentropy\", metrics=[\"accuracy\"])"
      ],
      "execution_count": null,
      "outputs": []
    },
    {
      "cell_type": "code",
      "metadata": {
        "colab": {
          "base_uri": "https://localhost:8080/"
        },
        "id": "cj4QIxFlMBtI",
        "outputId": "f6664606-250e-455c-aad4-baed1b68cb2f"
      },
      "source": [
        "model.fit(X_train, y_train, epochs=30, batch_size=512, verbose=1, validation_data=(X_validation,y_validation))"
      ],
      "execution_count": null,
      "outputs": [
        {
          "output_type": "stream",
          "name": "stdout",
          "text": [
            "Epoch 1/30\n",
            "94/94 [==============================] - 20s 215ms/step - loss: 0.5930 - accuracy: 0.8015 - val_loss: 0.4162 - val_accuracy: 0.8544\n",
            "Epoch 2/30\n",
            "94/94 [==============================] - 20s 216ms/step - loss: 0.3637 - accuracy: 0.8721 - val_loss: 0.3482 - val_accuracy: 0.8773\n",
            "Epoch 3/30\n",
            "94/94 [==============================] - 20s 218ms/step - loss: 0.3210 - accuracy: 0.8865 - val_loss: 0.3382 - val_accuracy: 0.8823\n",
            "Epoch 4/30\n",
            "94/94 [==============================] - 20s 208ms/step - loss: 0.2886 - accuracy: 0.8972 - val_loss: 0.3059 - val_accuracy: 0.8923\n",
            "Epoch 5/30\n",
            "94/94 [==============================] - 19s 206ms/step - loss: 0.2673 - accuracy: 0.9050 - val_loss: 0.3090 - val_accuracy: 0.8867\n",
            "Epoch 6/30\n",
            "94/94 [==============================] - 20s 213ms/step - loss: 0.2484 - accuracy: 0.9105 - val_loss: 0.2821 - val_accuracy: 0.9002\n",
            "Epoch 7/30\n",
            "94/94 [==============================] - 20s 212ms/step - loss: 0.2334 - accuracy: 0.9164 - val_loss: 0.2767 - val_accuracy: 0.9039\n",
            "Epoch 8/30\n",
            "94/94 [==============================] - 20s 212ms/step - loss: 0.2206 - accuracy: 0.9205 - val_loss: 0.2778 - val_accuracy: 0.9038\n",
            "Epoch 9/30\n",
            "94/94 [==============================] - 20s 211ms/step - loss: 0.2087 - accuracy: 0.9244 - val_loss: 0.2651 - val_accuracy: 0.9072\n",
            "Epoch 10/30\n",
            "94/94 [==============================] - 20s 213ms/step - loss: 0.1984 - accuracy: 0.9280 - val_loss: 0.2626 - val_accuracy: 0.9096\n",
            "Epoch 11/30\n",
            "94/94 [==============================] - 20s 211ms/step - loss: 0.1885 - accuracy: 0.9324 - val_loss: 0.2665 - val_accuracy: 0.9069\n",
            "Epoch 12/30\n",
            "94/94 [==============================] - 20s 209ms/step - loss: 0.1777 - accuracy: 0.9357 - val_loss: 0.2682 - val_accuracy: 0.9047\n",
            "Epoch 13/30\n",
            "94/94 [==============================] - 20s 212ms/step - loss: 0.1678 - accuracy: 0.9400 - val_loss: 0.2578 - val_accuracy: 0.9113\n",
            "Epoch 14/30\n",
            "94/94 [==============================] - 20s 209ms/step - loss: 0.1591 - accuracy: 0.9432 - val_loss: 0.2626 - val_accuracy: 0.9107\n",
            "Epoch 15/30\n",
            "94/94 [==============================] - 19s 205ms/step - loss: 0.1526 - accuracy: 0.9456 - val_loss: 0.2649 - val_accuracy: 0.9103\n",
            "Epoch 16/30\n",
            "94/94 [==============================] - 20s 212ms/step - loss: 0.1458 - accuracy: 0.9485 - val_loss: 0.2617 - val_accuracy: 0.9122\n",
            "Epoch 17/30\n",
            "94/94 [==============================] - 20s 212ms/step - loss: 0.1364 - accuracy: 0.9527 - val_loss: 0.2664 - val_accuracy: 0.9118\n",
            "Epoch 18/30\n",
            "94/94 [==============================] - 20s 208ms/step - loss: 0.1315 - accuracy: 0.9538 - val_loss: 0.2595 - val_accuracy: 0.9143\n",
            "Epoch 19/30\n",
            "94/94 [==============================] - 20s 211ms/step - loss: 0.1242 - accuracy: 0.9568 - val_loss: 0.2629 - val_accuracy: 0.9124\n",
            "Epoch 20/30\n",
            "94/94 [==============================] - 19s 205ms/step - loss: 0.1168 - accuracy: 0.9599 - val_loss: 0.2884 - val_accuracy: 0.9038\n",
            "Epoch 21/30\n",
            "94/94 [==============================] - 20s 208ms/step - loss: 0.1093 - accuracy: 0.9618 - val_loss: 0.2673 - val_accuracy: 0.9162\n",
            "Epoch 22/30\n",
            "94/94 [==============================] - 20s 208ms/step - loss: 0.1021 - accuracy: 0.9655 - val_loss: 0.2660 - val_accuracy: 0.9158\n",
            "Epoch 23/30\n",
            "94/94 [==============================] - 19s 204ms/step - loss: 0.0964 - accuracy: 0.9682 - val_loss: 0.2766 - val_accuracy: 0.9147\n",
            "Epoch 24/30\n",
            "94/94 [==============================] - 19s 205ms/step - loss: 0.0921 - accuracy: 0.9692 - val_loss: 0.2839 - val_accuracy: 0.9118\n",
            "Epoch 25/30\n",
            "94/94 [==============================] - 20s 210ms/step - loss: 0.0874 - accuracy: 0.9706 - val_loss: 0.2862 - val_accuracy: 0.9118\n",
            "Epoch 26/30\n",
            "94/94 [==============================] - 19s 205ms/step - loss: 0.0835 - accuracy: 0.9716 - val_loss: 0.2934 - val_accuracy: 0.9104\n",
            "Epoch 27/30\n",
            "94/94 [==============================] - 19s 206ms/step - loss: 0.0763 - accuracy: 0.9761 - val_loss: 0.2889 - val_accuracy: 0.9143\n",
            "Epoch 28/30\n",
            "94/94 [==============================] - 20s 210ms/step - loss: 0.0745 - accuracy: 0.9754 - val_loss: 0.2946 - val_accuracy: 0.9150\n",
            "Epoch 29/30\n",
            "94/94 [==============================] - 19s 205ms/step - loss: 0.0658 - accuracy: 0.9799 - val_loss: 0.2947 - val_accuracy: 0.9156\n",
            "Epoch 30/30\n",
            "94/94 [==============================] - 19s 205ms/step - loss: 0.0671 - accuracy: 0.9785 - val_loss: 0.2999 - val_accuracy: 0.9157\n"
          ]
        },
        {
          "output_type": "execute_result",
          "data": {
            "text/plain": [
              "<keras.callbacks.History at 0x7f37547b7210>"
            ]
          },
          "metadata": {},
          "execution_count": 166
        }
      ]
    },
    {
      "cell_type": "code",
      "metadata": {
        "id": "3lFJwtTPHG13"
      },
      "source": [
        "#test model"
      ],
      "execution_count": null,
      "outputs": []
    },
    {
      "cell_type": "code",
      "metadata": {
        "id": "kdDGK0hQHNP_"
      },
      "source": [
        "X_test = np.expand_dims(X_test, -1)"
      ],
      "execution_count": null,
      "outputs": []
    },
    {
      "cell_type": "code",
      "metadata": {
        "id": "XNW8Vp1UJl_I",
        "colab": {
          "base_uri": "https://localhost:8080/"
        },
        "outputId": "b740186d-5916-4d6f-f9bc-d6ee9662c0c5"
      },
      "source": [
        "X_test.shape"
      ],
      "execution_count": null,
      "outputs": [
        {
          "output_type": "execute_result",
          "data": {
            "text/plain": [
              "(10000, 28, 28, 1)"
            ]
          },
          "metadata": {},
          "execution_count": 169
        }
      ]
    },
    {
      "cell_type": "code",
      "metadata": {
        "id": "ViI6daGRKv_X",
        "colab": {
          "base_uri": "https://localhost:8080/"
        },
        "outputId": "7d71dc44-bfd6-4d9d-c176-436db8a38c1d"
      },
      "source": [
        "y_pred= model.predict(X_test).round(2)\n",
        "y_pred"
      ],
      "execution_count": null,
      "outputs": [
        {
          "output_type": "execute_result",
          "data": {
            "text/plain": [
              "array([[0.  , 0.  , 0.  , ..., 0.  , 0.  , 1.  ],\n",
              "       [0.  , 0.  , 1.  , ..., 0.  , 0.  , 0.  ],\n",
              "       [0.  , 1.  , 0.  , ..., 0.  , 0.  , 0.  ],\n",
              "       ...,\n",
              "       [0.  , 0.  , 0.  , ..., 0.  , 1.  , 0.  ],\n",
              "       [0.  , 1.  , 0.  , ..., 0.  , 0.  , 0.  ],\n",
              "       [0.  , 0.  , 0.  , ..., 0.01, 0.02, 0.  ]], dtype=float32)"
            ]
          },
          "metadata": {},
          "execution_count": 170
        }
      ]
    },
    {
      "cell_type": "code",
      "metadata": {
        "id": "d3lITSbYMGZQ",
        "colab": {
          "base_uri": "https://localhost:8080/"
        },
        "outputId": "5fa15097-dc1e-4176-f415-d4342011d999"
      },
      "source": [
        "model.evaluate(X_test,y_test)"
      ],
      "execution_count": null,
      "outputs": [
        {
          "output_type": "stream",
          "name": "stdout",
          "text": [
            "313/313 [==============================] - 2s 7ms/step - loss: 0.3013 - accuracy: 0.9139\n"
          ]
        },
        {
          "output_type": "execute_result",
          "data": {
            "text/plain": [
              "[0.3013213574886322, 0.9139000177383423]"
            ]
          },
          "metadata": {},
          "execution_count": 171
        }
      ]
    },
    {
      "cell_type": "code",
      "metadata": {
        "id": "6xBHa3BtQ0-0",
        "colab": {
          "base_uri": "https://localhost:8080/"
        },
        "outputId": "8cebcf8b-14f1-450f-d231-9e6110957378"
      },
      "source": [
        "X_test.ndim"
      ],
      "execution_count": null,
      "outputs": [
        {
          "output_type": "execute_result",
          "data": {
            "text/plain": [
              "4"
            ]
          },
          "metadata": {},
          "execution_count": 172
        }
      ]
    },
    {
      "cell_type": "code",
      "metadata": {
        "id": "b7yq921DPAtA"
      },
      "source": [
        "# visualise output"
      ],
      "execution_count": null,
      "outputs": []
    },
    {
      "cell_type": "code",
      "metadata": {
        "id": "c6a6rer_PXtV",
        "colab": {
          "base_uri": "https://localhost:8080/",
          "height": 1000
        },
        "outputId": "91d1d3e4-23cd-47a0-b7b8-3f6ff5a4719f"
      },
      "source": [
        "plt.figure(figsize=(16,16))\n",
        "j=1\n",
        "for i in np.random.randint(0,1000,25):\n",
        "  plt.subplot(5,5,j); j+=1\n",
        "  plt.imshow(X_test[i].reshape(28,28), cmap=\"Greys\")\n",
        "  plt.axis(\"off\")\n",
        "  plt.title(\"{} / {} \\nPredicted = {} / {}\". format(class_labels[y_test[i]], y_test[i], class_labels[np.argmax(y_pred[i])], np.argmax(y_pred[i])))"
      ],
      "execution_count": null,
      "outputs": [
        {
          "output_type": "stream",
          "name": "stderr",
          "text": [
            "/usr/local/lib/python3.7/dist-packages/matplotlib/backends/backend_agg.py:214: RuntimeWarning: Glyph 9 missing from current font.\n",
            "  font.set_text(s, 0.0, flags=flags)\n",
            "/usr/local/lib/python3.7/dist-packages/matplotlib/backends/backend_agg.py:183: RuntimeWarning: Glyph 9 missing from current font.\n",
            "  font.set_text(s, 0, flags=flags)\n"
          ]
        },
        {
          "output_type": "display_data",
          "data": {
            "image/png": "[encoded data removed]",
            "text/plain": [
              "<Figure size 1152x1152 with 25 Axes>"
            ]
          },
          "metadata": {
            "needs_background": "light"
          }
        }
      ]
    },
    {
      "cell_type": "code",
      "metadata": {
        "id": "fI_Cp02JQY1y",
        "colab": {
          "base_uri": "https://localhost:8080/",
          "height": 204
        },
        "outputId": "c3d9571e-0bdb-4a57-e3d5-583767f3a4e0"
      },
      "source": [
        "from sklearn.metrics import confusion_matrix\n",
        "plt.figure(figsize=(16,9))\n",
        "y_pred_labels = [np.argmax(label) for label in y_pred]\n",
        "cm = confusion_matrix(y_test, y_pred_labels)\n",
        "cm"
      ],
      "execution_count": null,
      "outputs": [
        {
          "output_type": "execute_result",
          "data": {
            "text/plain": [
              "array([[881,   1,  21,  17,   2,   2,  67,   0,   9,   0],\n",
              "       [  0, 977,   1,  16,   2,   0,   4,   0,   0,   0],\n",
              "       [ 20,   0, 851,   8,  62,   0,  58,   0,   1,   0],\n",
              "       [ 19,   8,   6, 936,  13,   0,  17,   0,   1,   0],\n",
              "       [  2,   1,  36,  40, 883,   1,  36,   0,   1,   0],\n",
              "       [  0,   0,   0,   0,   0, 979,   0,  13,   0,   8],\n",
              "       [125,   0,  44,  28,  64,   0, 731,   0,   8,   0],\n",
              "       [  0,   0,   0,   0,   0,   6,   0, 967,   1,  26],\n",
              "       [  4,   2,   3,   9,   2,   4,   4,   2, 970,   0],\n",
              "       [  1,   0,   0,   0,   0,   6,   0,  27,   0, 966]])"
            ]
          },
          "metadata": {},
          "execution_count": 175
        },
        {
          "output_type": "display_data",
          "data": {
            "text/plain": [
              "<Figure size 1152x648 with 0 Axes>"
            ]
          },
          "metadata": {}
        }
      ]
    },
    {
      "cell_type": "code",
      "metadata": {
        "id": "Uf_u2eZYSvnF",
        "colab": {
          "base_uri": "https://localhost:8080/",
          "height": 397
        },
        "outputId": "901e08f4-e3fe-4b06-979b-aafa5e7fde54"
      },
      "source": [
        "sns.heatmap(cm,annot=True,fmt=\"d\",xticklabels=class_labels, yticklabels=class_labels)"
      ],
      "execution_count": null,
      "outputs": [
        {
          "output_type": "stream",
          "name": "stderr",
          "text": [
            "/usr/local/lib/python3.7/dist-packages/matplotlib/backends/backend_agg.py:214: RuntimeWarning: Glyph 9 missing from current font.\n",
            "  font.set_text(s, 0.0, flags=flags)\n",
            "/usr/local/lib/python3.7/dist-packages/matplotlib/backends/backend_agg.py:183: RuntimeWarning: Glyph 9 missing from current font.\n",
            "  font.set_text(s, 0, flags=flags)\n"
          ]
        },
        {
          "output_type": "execute_result",
          "data": {
            "text/plain": [
              "<matplotlib.axes._subplots.AxesSubplot at 0x7f374c343c90>"
            ]
          },
          "metadata": {},
          "execution_count": 176
        },
        {
          "output_type": "display_data",
          "data": {
            "image/png": "[encoded data removed]",
            "text/plain": [
              "<Figure size 432x288 with 2 Axes>"
            ]
          },
          "metadata": {
            "needs_background": "light"
          }
        }
      ]
    },
    {
      "cell_type": "code",
      "metadata": {
        "id": "0H0_ikJKTPQc",
        "colab": {
          "base_uri": "https://localhost:8080/"
        },
        "outputId": "a3d90459-0cb3-4cef-e477-03ee80011e8d"
      },
      "source": [
        "from sklearn.metrics import classification_report\n",
        "cr= classification_report(y_test,y_pred_labels,target_names = class_labels)\n",
        "print(cr)"
      ],
      "execution_count": null,
      "outputs": [
        {
          "output_type": "stream",
          "name": "stdout",
          "text": [
            "              precision    recall  f1-score   support\n",
            "\n",
            "\tT-shirt/top       0.84      0.88      0.86      1000\n",
            "     Trouser       0.99      0.98      0.98      1000\n",
            "    Pullover       0.88      0.85      0.87      1000\n",
            "       Dress       0.89      0.94      0.91      1000\n",
            "        Coat       0.86      0.88      0.87      1000\n",
            "      Sandal       0.98      0.98      0.98      1000\n",
            "       Shirt       0.80      0.73      0.76      1000\n",
            "     Sneaker       0.96      0.97      0.96      1000\n",
            "         Bag       0.98      0.97      0.97      1000\n",
            "  Ankle boot       0.97      0.97      0.97      1000\n",
            "\n",
            "    accuracy                           0.91     10000\n",
            "   macro avg       0.91      0.91      0.91     10000\n",
            "weighted avg       0.91      0.91      0.91     10000\n",
            "\n"
          ]
        }
      ]
    },
    {
      "cell_type": "code",
      "metadata": {
        "id": "12Y0bEsbUAEZ"
      },
      "source": [
        "model.save(\"fashion_mnist_data_classification.h5\")"
      ],
      "execution_count": null,
      "outputs": []
    },
    {
      "cell_type": "code",
      "metadata": {
        "id": "00nFln3vV4sW"
      },
      "source": [
        "model2  = keras.models.load_model(\"fashion_mnist_data_classification.h5\")"
      ],
      "execution_count": null,
      "outputs": []
    },
    {
      "cell_type": "code",
      "metadata": {
        "id": "pP5QeYx_Wa9T",
        "colab": {
          "base_uri": "https://localhost:8080/"
        },
        "outputId": "e23bf0dd-697b-45b6-eb13-5804391c7fde"
      },
      "source": [
        "model2.predict(X_test).round(2)"
      ],
      "execution_count": null,
      "outputs": [
        {
          "output_type": "execute_result",
          "data": {
            "text/plain": [
              "array([[0.  , 0.  , 0.  , ..., 0.  , 0.  , 1.  ],\n",
              "       [0.  , 0.  , 1.  , ..., 0.  , 0.  , 0.  ],\n",
              "       [0.  , 1.  , 0.  , ..., 0.  , 0.  , 0.  ],\n",
              "       ...,\n",
              "       [0.  , 0.  , 0.  , ..., 0.  , 1.  , 0.  ],\n",
              "       [0.  , 1.  , 0.  , ..., 0.  , 0.  , 0.  ],\n",
              "       [0.  , 0.  , 0.  , ..., 0.01, 0.02, 0.  ]], dtype=float32)"
            ]
          },
          "metadata": {},
          "execution_count": 180
        }
      ]
    },
    {
      "cell_type": "code",
      "metadata": {
        "id": "jc6KzC04Wwtw"
      },
      "source": [
        "y_pred_sample = model2.predict(X_test).round(2)"
      ],
      "execution_count": null,
      "outputs": []
    },
    {
      "cell_type": "code",
      "metadata": {
        "id": "zM1TKVPvXOHJ",
        "colab": {
          "base_uri": "https://localhost:8080/"
        },
        "outputId": "6bffa3b2-8084-4433-d42d-a19657703149"
      },
      "source": [
        "np.argmax(y_pred_sample[0])"
      ],
      "execution_count": null,
      "outputs": [
        {
          "output_type": "execute_result",
          "data": {
            "text/plain": [
              "9"
            ]
          },
          "metadata": {},
          "execution_count": 182
        }
      ]
    },
    {
      "cell_type": "code",
      "metadata": {
        "id": "4IitzvWWXpLq",
        "colab": {
          "base_uri": "https://localhost:8080/"
        },
        "outputId": "6be367be-96a6-44ae-abb6-6ab416a8701c"
      },
      "source": [
        "y_test[0]"
      ],
      "execution_count": null,
      "outputs": [
        {
          "output_type": "execute_result",
          "data": {
            "text/plain": [
              "9"
            ]
          },
          "metadata": {},
          "execution_count": 183
        }
      ]
    },
    {
      "cell_type": "code",
      "metadata": {
        "id": "8O1EXIdGTzgR",
        "colab": {
          "base_uri": "https://localhost:8080/"
        },
        "outputId": "2345439c-b286-472a-c1cf-960c66e694fd"
      },
      "source": [
        " from google.colab import drive\n",
        " drive.mount(\"/content/drive\")"
      ],
      "execution_count": null,
      "outputs": [
        {
          "output_type": "stream",
          "name": "stdout",
          "text": [
            "Drive already mounted at /content/drive; to attempt to forcibly remount, call drive.mount(\"/content/drive\", force_remount=True).\n"
          ]
        }
      ]
    },
    {
      "cell_type": "code",
      "metadata": {
        "id": "_yUQLacLT9Rt"
      },
      "source": [
        "model.save(\"fashion_mnist_data_classification.h5\")"
      ],
      "execution_count": null,
      "outputs": []
    },
    {
      "cell_type": "code",
      "metadata": {
        "id": "Y-s2ceGpDoBD"
      },
      "source": [
        "#build  cnn model"
      ],
      "execution_count": null,
      "outputs": []
    },
    {
      "cell_type": "code",
      "metadata": {
        "id": "9RZLNvlJq5CM",
        "colab": {
          "base_uri": "https://localhost:8080/"
        },
        "outputId": "93748425-507e-4765-b69f-c44d41015144"
      },
      "source": [
        "cnn_model2=keras.models.Sequential([\n",
        "                         keras.layers.Conv2D(filters=32,kernel_size=3,strides=(1,1),padding='valid',activation='relu',input_shape=[28,28,1]),\n",
        "                         keras.layers.MaxPooling2D(pool_size=(2,2)),\n",
        "                         keras.layers.Conv2D(filters=64,kernel_size=3,strides=(2,2),padding='same',activation='relu'),\n",
        "                         keras.layers.MaxPooling2D(pool_size=(2,2)),\n",
        "                         keras.layers.Flatten(),\n",
        "                         keras.layers.Dense(units=128, activation='relu'),\n",
        "                         keras.layers.Dropout(0.25),\n",
        "                         keras.layers.Dense(units=256, activation='relu'),\n",
        "                         keras.layers.Dropout(0.25),\n",
        "                         keras.layers.Dense(units=128,activation='relu'),\n",
        "                         keras.layers.Dense(units=10,activation='softmax')\n",
        "])\n",
        "\n",
        "cnn_model2.compile(optimizer =\"adam\", loss= \"sparse_categorical_crossentropy\", metrics=[\"accuracy\"])\n",
        "cnn_model2.fit(X_train, y_train, epochs=30, batch_size=512, verbose=1, validation_data=(X_validation,y_validation))\n",
        "cnn_model2.save(\"fashion_mnist_data_classification.h5\")\n",
        "\n",
        "#building cnn model\n",
        "cnn_model3=keras.models.Sequential([\n",
        "                         keras.layers.Conv2D(filters=64,kernel_size=3,strides=(1,1),padding='valid',activation='relu',input_shape=[28,28,1]),\n",
        "                         keras.layers.MaxPooling2D(pool_size=(2,2)),\n",
        "                         keras.layers.Conv2D(filters=128,kernel_size=3,strides=(2,2),padding='same',activation='relu'),\n",
        "                         keras.layers.MaxPooling2D(pool_size=(2,2)),\n",
        "                         keras.layers.Conv2D(filters=64,kernel_size=3,strides=(2,2),padding='same',activation='relu'),\n",
        "                         keras.layers.MaxPooling2D(pool_size=(2,2)),\n",
        "                         keras.layers.Flatten(),\n",
        "                         keras.layers.Dense(units=128, activation='relu'),\n",
        "                         keras.layers.Dropout(0.25),\n",
        "                         keras.layers.Dense(units=256, activation='relu'),\n",
        "                         keras.layers.Dropout(0.5),\n",
        "                         keras.layers.Dense(units=256, activation='relu'),\n",
        "                         keras.layers.Dropout(0.25),\n",
        "                         keras.layers.Dense(units=128, activation='relu'),\n",
        "                         keras.layers.Dropout(0.10),\n",
        "                         keras.layers.Dense(units=10,activation='softmax')\n",
        "])\n",
        "\n",
        "cnn_model3.compile(optimizer =\"adam\", loss= \"sparse_categorical_crossentropy\", metrics=[\"accuracy\"])\n",
        "cnn_model3.fit(X_train, y_train, epochs=60, batch_size=512, verbose=1, validation_data=(X_validation,y_validation))\n",
        "cnn_model3.save(\"fashion_mnist_data_classification.h5\")\n",
        "\n",
        "cnn_model3.evaluate(X_test, y_test)\n"
      ],
      "execution_count": null,
      "outputs": [
        {
          "output_type": "stream",
          "name": "stdout",
          "text": [
            "Epoch 1/30\n",
            "94/94 [==============================] - 25s 263ms/step - loss: 1.0025 - accuracy: 0.6268 - val_loss: 0.5578 - val_accuracy: 0.7807\n",
            "Epoch 2/30\n",
            "94/94 [==============================] - 25s 266ms/step - loss: 0.5373 - accuracy: 0.7977 - val_loss: 0.4549 - val_accuracy: 0.8303\n",
            "Epoch 3/30\n",
            "94/94 [==============================] - 25s 264ms/step - loss: 0.4538 - accuracy: 0.8328 - val_loss: 0.4036 - val_accuracy: 0.8485\n",
            "Epoch 4/30\n",
            "94/94 [==============================] - 25s 270ms/step - loss: 0.4003 - accuracy: 0.8534 - val_loss: 0.3793 - val_accuracy: 0.8587\n",
            "Epoch 5/30\n",
            "94/94 [==============================] - 25s 263ms/step - loss: 0.3698 - accuracy: 0.8672 - val_loss: 0.3435 - val_accuracy: 0.8717\n",
            "Epoch 6/30\n",
            "94/94 [==============================] - 25s 264ms/step - loss: 0.3384 - accuracy: 0.8780 - val_loss: 0.3442 - val_accuracy: 0.8713\n",
            "Epoch 7/30\n",
            "94/94 [==============================] - 25s 264ms/step - loss: 0.3212 - accuracy: 0.8825 - val_loss: 0.3135 - val_accuracy: 0.8852\n",
            "Epoch 8/30\n",
            "94/94 [==============================] - 24s 260ms/step - loss: 0.3041 - accuracy: 0.8889 - val_loss: 0.3189 - val_accuracy: 0.8822\n",
            "Epoch 9/30\n",
            "94/94 [==============================] - 24s 260ms/step - loss: 0.2915 - accuracy: 0.8929 - val_loss: 0.3027 - val_accuracy: 0.8876\n",
            "Epoch 10/30\n",
            "94/94 [==============================] - 25s 266ms/step - loss: 0.2782 - accuracy: 0.8968 - val_loss: 0.2796 - val_accuracy: 0.8963\n",
            "Epoch 11/30\n",
            "94/94 [==============================] - 25s 261ms/step - loss: 0.2700 - accuracy: 0.9004 - val_loss: 0.2867 - val_accuracy: 0.8956\n",
            "Epoch 12/30\n",
            "94/94 [==============================] - 25s 265ms/step - loss: 0.2613 - accuracy: 0.9052 - val_loss: 0.2957 - val_accuracy: 0.8937\n",
            "Epoch 13/30\n",
            "94/94 [==============================] - 24s 258ms/step - loss: 0.2538 - accuracy: 0.9053 - val_loss: 0.2674 - val_accuracy: 0.9038\n",
            "Epoch 14/30\n",
            "94/94 [==============================] - 25s 262ms/step - loss: 0.2403 - accuracy: 0.9112 - val_loss: 0.2736 - val_accuracy: 0.9013\n",
            "Epoch 15/30\n",
            "94/94 [==============================] - 25s 267ms/step - loss: 0.2342 - accuracy: 0.9145 - val_loss: 0.2635 - val_accuracy: 0.9054\n",
            "Epoch 16/30\n",
            "94/94 [==============================] - 25s 262ms/step - loss: 0.2282 - accuracy: 0.9164 - val_loss: 0.2670 - val_accuracy: 0.9037\n",
            "Epoch 17/30\n",
            "94/94 [==============================] - 25s 266ms/step - loss: 0.2207 - accuracy: 0.9195 - val_loss: 0.2690 - val_accuracy: 0.9046\n",
            "Epoch 18/30\n",
            "94/94 [==============================] - 25s 267ms/step - loss: 0.2157 - accuracy: 0.9201 - val_loss: 0.2633 - val_accuracy: 0.9077\n",
            "Epoch 19/30\n",
            "94/94 [==============================] - 25s 266ms/step - loss: 0.2099 - accuracy: 0.9214 - val_loss: 0.2713 - val_accuracy: 0.9032\n",
            "Epoch 20/30\n",
            "94/94 [==============================] - 25s 266ms/step - loss: 0.2009 - accuracy: 0.9258 - val_loss: 0.2677 - val_accuracy: 0.9047\n",
            "Epoch 21/30\n",
            "94/94 [==============================] - 25s 266ms/step - loss: 0.1973 - accuracy: 0.9280 - val_loss: 0.2660 - val_accuracy: 0.9058\n",
            "Epoch 22/30\n",
            "94/94 [==============================] - 25s 263ms/step - loss: 0.1942 - accuracy: 0.9275 - val_loss: 0.2809 - val_accuracy: 0.9012\n",
            "Epoch 23/30\n",
            "94/94 [==============================] - 25s 264ms/step - loss: 0.1904 - accuracy: 0.9287 - val_loss: 0.2664 - val_accuracy: 0.9065\n",
            "Epoch 24/30\n",
            "94/94 [==============================] - 25s 265ms/step - loss: 0.1857 - accuracy: 0.9301 - val_loss: 0.2565 - val_accuracy: 0.9102\n",
            "Epoch 25/30\n",
            "94/94 [==============================] - 25s 262ms/step - loss: 0.1759 - accuracy: 0.9337 - val_loss: 0.2695 - val_accuracy: 0.9087\n",
            "Epoch 26/30\n",
            "94/94 [==============================] - 25s 263ms/step - loss: 0.1782 - accuracy: 0.9333 - val_loss: 0.2773 - val_accuracy: 0.9036\n",
            "Epoch 27/30\n",
            "94/94 [==============================] - 25s 261ms/step - loss: 0.1703 - accuracy: 0.9358 - val_loss: 0.2702 - val_accuracy: 0.9100\n",
            "Epoch 28/30\n",
            "94/94 [==============================] - 25s 266ms/step - loss: 0.1707 - accuracy: 0.9371 - val_loss: 0.2665 - val_accuracy: 0.9084\n",
            "Epoch 29/30\n",
            "94/94 [==============================] - 25s 264ms/step - loss: 0.1652 - accuracy: 0.9381 - val_loss: 0.2691 - val_accuracy: 0.9091\n",
            "Epoch 30/30\n",
            "94/94 [==============================] - 25s 265ms/step - loss: 0.1518 - accuracy: 0.9439 - val_loss: 0.2699 - val_accuracy: 0.9135\n",
            "Epoch 1/60\n",
            "94/94 [==============================] - 55s 575ms/step - loss: 1.1757 - accuracy: 0.5357 - val_loss: 0.5952 - val_accuracy: 0.7683\n",
            "Epoch 2/60\n",
            "94/94 [==============================] - 54s 577ms/step - loss: 0.5763 - accuracy: 0.7817 - val_loss: 0.4698 - val_accuracy: 0.8206\n",
            "Epoch 3/60\n",
            "94/94 [==============================] - 53s 564ms/step - loss: 0.4773 - accuracy: 0.8219 - val_loss: 0.4068 - val_accuracy: 0.8464\n",
            "Epoch 4/60\n",
            "94/94 [==============================] - 54s 580ms/step - loss: 0.4057 - accuracy: 0.8534 - val_loss: 0.3621 - val_accuracy: 0.8692\n",
            "Epoch 5/60\n",
            "94/94 [==============================] - 53s 567ms/step - loss: 0.3584 - accuracy: 0.8717 - val_loss: 0.3505 - val_accuracy: 0.8762\n",
            "Epoch 6/60\n",
            "94/94 [==============================] - 55s 586ms/step - loss: 0.3321 - accuracy: 0.8824 - val_loss: 0.3238 - val_accuracy: 0.8854\n",
            "Epoch 7/60\n",
            "94/94 [==============================] - 54s 578ms/step - loss: 0.3064 - accuracy: 0.8919 - val_loss: 0.3204 - val_accuracy: 0.8848\n",
            "Epoch 8/60\n",
            "94/94 [==============================] - 53s 566ms/step - loss: 0.2899 - accuracy: 0.8972 - val_loss: 0.3084 - val_accuracy: 0.8910\n",
            "Epoch 9/60\n",
            "94/94 [==============================] - 53s 568ms/step - loss: 0.2732 - accuracy: 0.9026 - val_loss: 0.2928 - val_accuracy: 0.8954\n",
            "Epoch 10/60\n",
            "94/94 [==============================] - 53s 569ms/step - loss: 0.2575 - accuracy: 0.9089 - val_loss: 0.2895 - val_accuracy: 0.8969\n",
            "Epoch 11/60\n",
            "94/94 [==============================] - 53s 564ms/step - loss: 0.2419 - accuracy: 0.9124 - val_loss: 0.2845 - val_accuracy: 0.9009\n",
            "Epoch 12/60\n",
            "94/94 [==============================] - 53s 564ms/step - loss: 0.2383 - accuracy: 0.9149 - val_loss: 0.2847 - val_accuracy: 0.9006\n",
            "Epoch 13/60\n",
            "94/94 [==============================] - 53s 560ms/step - loss: 0.2217 - accuracy: 0.9205 - val_loss: 0.2861 - val_accuracy: 0.9032\n",
            "Epoch 14/60\n",
            "94/94 [==============================] - 53s 568ms/step - loss: 0.2084 - accuracy: 0.9257 - val_loss: 0.2851 - val_accuracy: 0.9078\n",
            "Epoch 15/60\n",
            "94/94 [==============================] - 53s 568ms/step - loss: 0.2034 - accuracy: 0.9275 - val_loss: 0.2805 - val_accuracy: 0.9033\n",
            "Epoch 16/60\n",
            "94/94 [==============================] - 53s 565ms/step - loss: 0.1954 - accuracy: 0.9313 - val_loss: 0.2907 - val_accuracy: 0.9031\n",
            "Epoch 17/60\n",
            "94/94 [==============================] - 52s 557ms/step - loss: 0.1836 - accuracy: 0.9336 - val_loss: 0.2946 - val_accuracy: 0.9044\n",
            "Epoch 18/60\n",
            "94/94 [==============================] - 54s 571ms/step - loss: 0.1727 - accuracy: 0.9388 - val_loss: 0.2887 - val_accuracy: 0.9094\n",
            "Epoch 19/60\n",
            "94/94 [==============================] - 53s 565ms/step - loss: 0.1676 - accuracy: 0.9388 - val_loss: 0.2901 - val_accuracy: 0.9071\n",
            "Epoch 20/60\n",
            "94/94 [==============================] - 52s 557ms/step - loss: 0.1550 - accuracy: 0.9455 - val_loss: 0.3065 - val_accuracy: 0.9030\n",
            "Epoch 21/60\n",
            "94/94 [==============================] - 53s 567ms/step - loss: 0.1524 - accuracy: 0.9459 - val_loss: 0.3219 - val_accuracy: 0.9018\n",
            "Epoch 22/60\n",
            "94/94 [==============================] - 53s 562ms/step - loss: 0.1503 - accuracy: 0.9458 - val_loss: 0.2967 - val_accuracy: 0.9122\n",
            "Epoch 23/60\n",
            "94/94 [==============================] - 53s 562ms/step - loss: 0.1386 - accuracy: 0.9509 - val_loss: 0.3313 - val_accuracy: 0.9027\n",
            "Epoch 24/60\n",
            "94/94 [==============================] - 53s 563ms/step - loss: 0.1307 - accuracy: 0.9534 - val_loss: 0.3240 - val_accuracy: 0.9102\n",
            "Epoch 25/60\n",
            "94/94 [==============================] - 53s 563ms/step - loss: 0.1295 - accuracy: 0.9533 - val_loss: 0.3226 - val_accuracy: 0.9061\n",
            "Epoch 26/60\n",
            "94/94 [==============================] - 52s 552ms/step - loss: 0.1219 - accuracy: 0.9571 - val_loss: 0.3358 - val_accuracy: 0.9087\n",
            "Epoch 27/60\n",
            "94/94 [==============================] - 52s 558ms/step - loss: 0.1192 - accuracy: 0.9569 - val_loss: 0.3498 - val_accuracy: 0.9013\n",
            "Epoch 28/60\n",
            "94/94 [==============================] - 53s 562ms/step - loss: 0.1169 - accuracy: 0.9578 - val_loss: 0.3525 - val_accuracy: 0.9074\n",
            "Epoch 29/60\n",
            "94/94 [==============================] - 52s 556ms/step - loss: 0.1068 - accuracy: 0.9615 - val_loss: 0.3709 - val_accuracy: 0.9025\n",
            "Epoch 30/60\n",
            "94/94 [==============================] - 52s 553ms/step - loss: 0.1066 - accuracy: 0.9608 - val_loss: 0.3703 - val_accuracy: 0.9051\n",
            "Epoch 31/60\n",
            "94/94 [==============================] - 53s 559ms/step - loss: 0.0986 - accuracy: 0.9654 - val_loss: 0.3592 - val_accuracy: 0.9070\n",
            "Epoch 32/60\n",
            "94/94 [==============================] - 52s 558ms/step - loss: 0.0911 - accuracy: 0.9670 - val_loss: 0.3888 - val_accuracy: 0.9037\n",
            "Epoch 33/60\n",
            "94/94 [==============================] - 52s 551ms/step - loss: 0.0895 - accuracy: 0.9683 - val_loss: 0.3857 - val_accuracy: 0.9068\n",
            "Epoch 34/60\n",
            "94/94 [==============================] - 52s 552ms/step - loss: 0.0951 - accuracy: 0.9662 - val_loss: 0.3814 - val_accuracy: 0.9059\n",
            "Epoch 35/60\n",
            "94/94 [==============================] - 52s 553ms/step - loss: 0.0844 - accuracy: 0.9705 - val_loss: 0.3981 - val_accuracy: 0.9030\n",
            "Epoch 36/60\n",
            "94/94 [==============================] - 52s 554ms/step - loss: 0.0798 - accuracy: 0.9721 - val_loss: 0.3950 - val_accuracy: 0.9038\n",
            "Epoch 37/60\n",
            "94/94 [==============================] - 52s 553ms/step - loss: 0.0859 - accuracy: 0.9691 - val_loss: 0.3826 - val_accuracy: 0.9042\n",
            "Epoch 38/60\n",
            "94/94 [==============================] - 52s 552ms/step - loss: 0.0785 - accuracy: 0.9722 - val_loss: 0.4027 - val_accuracy: 0.9103\n",
            "Epoch 39/60\n",
            "94/94 [==============================] - 53s 561ms/step - loss: 0.0781 - accuracy: 0.9729 - val_loss: 0.3979 - val_accuracy: 0.9061\n",
            "Epoch 40/60\n",
            "94/94 [==============================] - 52s 550ms/step - loss: 0.0682 - accuracy: 0.9756 - val_loss: 0.4560 - val_accuracy: 0.9027\n",
            "Epoch 41/60\n",
            "94/94 [==============================] - 53s 560ms/step - loss: 0.0691 - accuracy: 0.9757 - val_loss: 0.4503 - val_accuracy: 0.9063\n",
            "Epoch 42/60\n",
            "94/94 [==============================] - 53s 563ms/step - loss: 0.0618 - accuracy: 0.9785 - val_loss: 0.4690 - val_accuracy: 0.9038\n",
            "Epoch 43/60\n",
            "94/94 [==============================] - 53s 559ms/step - loss: 0.0674 - accuracy: 0.9770 - val_loss: 0.4435 - val_accuracy: 0.9032\n",
            "Epoch 44/60\n",
            "94/94 [==============================] - 53s 560ms/step - loss: 0.0594 - accuracy: 0.9791 - val_loss: 0.4489 - val_accuracy: 0.9051\n",
            "Epoch 45/60\n",
            "94/94 [==============================] - 52s 553ms/step - loss: 0.0591 - accuracy: 0.9794 - val_loss: 0.4878 - val_accuracy: 0.9009\n",
            "Epoch 46/60\n",
            "94/94 [==============================] - 52s 554ms/step - loss: 0.0608 - accuracy: 0.9789 - val_loss: 0.4627 - val_accuracy: 0.9082\n",
            "Epoch 47/60\n",
            "94/94 [==============================] - 52s 550ms/step - loss: 0.0528 - accuracy: 0.9817 - val_loss: 0.4733 - val_accuracy: 0.9053\n",
            "Epoch 48/60\n",
            "94/94 [==============================] - 52s 554ms/step - loss: 0.0537 - accuracy: 0.9812 - val_loss: 0.5188 - val_accuracy: 0.9055\n",
            "Epoch 49/60\n",
            "94/94 [==============================] - 52s 554ms/step - loss: 0.0526 - accuracy: 0.9811 - val_loss: 0.4904 - val_accuracy: 0.9044\n",
            "Epoch 50/60\n",
            "94/94 [==============================] - 52s 555ms/step - loss: 0.0499 - accuracy: 0.9825 - val_loss: 0.4974 - val_accuracy: 0.9071\n",
            "Epoch 51/60\n",
            "94/94 [==============================] - 52s 552ms/step - loss: 0.0495 - accuracy: 0.9826 - val_loss: 0.4823 - val_accuracy: 0.9027\n",
            "Epoch 52/60\n",
            "94/94 [==============================] - 52s 552ms/step - loss: 0.0479 - accuracy: 0.9831 - val_loss: 0.4956 - val_accuracy: 0.9057\n",
            "Epoch 53/60\n",
            "94/94 [==============================] - 52s 552ms/step - loss: 0.0524 - accuracy: 0.9823 - val_loss: 0.4820 - val_accuracy: 0.9068\n",
            "Epoch 54/60\n",
            "94/94 [==============================] - 52s 556ms/step - loss: 0.0401 - accuracy: 0.9859 - val_loss: 0.5197 - val_accuracy: 0.9044\n",
            "Epoch 55/60\n",
            "94/94 [==============================] - 52s 554ms/step - loss: 0.0482 - accuracy: 0.9835 - val_loss: 0.4946 - val_accuracy: 0.9053\n",
            "Epoch 56/60\n",
            "94/94 [==============================] - 52s 558ms/step - loss: 0.0455 - accuracy: 0.9844 - val_loss: 0.5329 - val_accuracy: 0.9060\n",
            "Epoch 57/60\n",
            "94/94 [==============================] - 52s 553ms/step - loss: 0.0379 - accuracy: 0.9870 - val_loss: 0.5537 - val_accuracy: 0.9026\n",
            "Epoch 58/60\n",
            "94/94 [==============================] - 52s 554ms/step - loss: 0.0424 - accuracy: 0.9852 - val_loss: 0.5401 - val_accuracy: 0.9057\n",
            "Epoch 59/60\n",
            "94/94 [==============================] - 52s 553ms/step - loss: 0.0381 - accuracy: 0.9867 - val_loss: 0.5675 - val_accuracy: 0.9032\n",
            "Epoch 60/60\n",
            "94/94 [==============================] - 52s 549ms/step - loss: 0.0359 - accuracy: 0.9875 - val_loss: 0.6270 - val_accuracy: 0.9063\n",
            "313/313 [==============================] - 4s 12ms/step - loss: 0.5830 - accuracy: 0.9094\n"
          ]
        },
        {
          "output_type": "execute_result",
          "data": {
            "text/plain": [
              "[0.5829524397850037, 0.9093999862670898]"
            ]
          },
          "metadata": {},
          "execution_count": 188
        }
      ]
    }
  ]
}